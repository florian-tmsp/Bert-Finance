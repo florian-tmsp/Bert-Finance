{
  "nbformat": 4,
  "nbformat_minor": 0,
  "metadata": {
    "kernelspec": {
      "display_name": "Python 3",
      "language": "python",
      "name": "python3"
    },
    "language_info": {
      "codemirror_mode": {
        "name": "ipython",
        "version": 3
      },
      "file_extension": ".py",
      "mimetype": "text/x-python",
      "name": "python",
      "nbconvert_exporter": "python",
      "pygments_lexer": "ipython3",
      "version": "3.7.3"
    },
    "colab": {
      "name": "training_Finlp.ipynb",
      "provenance": [],
      "toc_visible": true,
      "include_colab_link": true
    },
    "accelerator": "GPU"
  },
  "cells": [
    {
      "cell_type": "markdown",
      "metadata": {
        "id": "view-in-github",
        "colab_type": "text"
      },
      "source": [
        "<a href=\"https://colab.research.google.com/github/florian-tmsp/econom-trie---Rstudio/blob/master/training_Finlp.ipynb\" target=\"_parent\"><img src=\"https://colab.research.google.com/assets/colab-badge.svg\" alt=\"Open In Colab\"/></a>"
      ]
    },
    {
      "cell_type": "code",
      "metadata": {
        "id": "dAzuV_0yQ_An"
      },
      "source": [
        ""
      ],
      "execution_count": 35,
      "outputs": []
    },
    {
      "cell_type": "code",
      "metadata": {
        "colab": {
          "base_uri": "https://localhost:8080/"
        },
        "id": "tf7GyLWPPN4t",
        "outputId": "1e438f2d-6a32-410e-eb63-d09ebca0baf0"
      },
      "source": [
        "! pip install pytorch-pretrained-bert==0.6.2 scikit-learn==0.21.2 spacy==2.1.4 torch==1.1.0 transformers==2.8.0"
      ],
      "execution_count": 36,
      "outputs": [
        {
          "output_type": "stream",
          "text": [
            "Requirement already satisfied: pytorch-pretrained-bert==0.6.2 in /usr/local/lib/python3.6/dist-packages (0.6.2)\n",
            "Requirement already satisfied: scikit-learn==0.21.2 in /usr/local/lib/python3.6/dist-packages (0.21.2)\n",
            "Requirement already satisfied: spacy==2.1.4 in /usr/local/lib/python3.6/dist-packages (2.1.4)\n",
            "Requirement already satisfied: torch==1.1.0 in /usr/local/lib/python3.6/dist-packages (1.1.0)\n",
            "Requirement already satisfied: transformers==2.8.0 in /usr/local/lib/python3.6/dist-packages (2.8.0)\n",
            "Requirement already satisfied: numpy in /usr/local/lib/python3.6/dist-packages (from pytorch-pretrained-bert==0.6.2) (1.19.4)\n",
            "Requirement already satisfied: regex in /usr/local/lib/python3.6/dist-packages (from pytorch-pretrained-bert==0.6.2) (2019.12.20)\n",
            "Requirement already satisfied: tqdm in /usr/local/lib/python3.6/dist-packages (from pytorch-pretrained-bert==0.6.2) (4.41.1)\n",
            "Requirement already satisfied: boto3 in /usr/local/lib/python3.6/dist-packages (from pytorch-pretrained-bert==0.6.2) (1.16.40)\n",
            "Requirement already satisfied: requests in /usr/local/lib/python3.6/dist-packages (from pytorch-pretrained-bert==0.6.2) (2.23.0)\n",
            "Requirement already satisfied: joblib>=0.11 in /usr/local/lib/python3.6/dist-packages (from scikit-learn==0.21.2) (1.0.0)\n",
            "Requirement already satisfied: scipy>=0.17.0 in /usr/local/lib/python3.6/dist-packages (from scikit-learn==0.21.2) (1.4.1)\n",
            "Requirement already satisfied: plac<1.0.0,>=0.9.6 in /usr/local/lib/python3.6/dist-packages (from spacy==2.1.4) (0.9.6)\n",
            "Requirement already satisfied: preshed<2.1.0,>=2.0.1 in /usr/local/lib/python3.6/dist-packages (from spacy==2.1.4) (2.0.1)\n",
            "Requirement already satisfied: wasabi<1.1.0,>=0.2.0 in /usr/local/lib/python3.6/dist-packages (from spacy==2.1.4) (0.8.0)\n",
            "Requirement already satisfied: blis<0.3.0,>=0.2.2 in /usr/local/lib/python3.6/dist-packages (from spacy==2.1.4) (0.2.4)\n",
            "Requirement already satisfied: thinc<7.1.0,>=7.0.2 in /usr/local/lib/python3.6/dist-packages (from spacy==2.1.4) (7.0.8)\n",
            "Requirement already satisfied: cymem<2.1.0,>=2.0.2 in /usr/local/lib/python3.6/dist-packages (from spacy==2.1.4) (2.0.5)\n",
            "Requirement already satisfied: srsly<1.1.0,>=0.0.5 in /usr/local/lib/python3.6/dist-packages (from spacy==2.1.4) (1.0.5)\n",
            "Requirement already satisfied: jsonschema<3.1.0,>=2.6.0 in /usr/local/lib/python3.6/dist-packages (from spacy==2.1.4) (2.6.0)\n",
            "Requirement already satisfied: murmurhash<1.1.0,>=0.28.0 in /usr/local/lib/python3.6/dist-packages (from spacy==2.1.4) (1.0.5)\n",
            "Requirement already satisfied: filelock in /usr/local/lib/python3.6/dist-packages (from transformers==2.8.0) (3.0.12)\n",
            "Requirement already satisfied: dataclasses; python_version < \"3.7\" in /usr/local/lib/python3.6/dist-packages (from transformers==2.8.0) (0.8)\n",
            "Requirement already satisfied: sacremoses in /usr/local/lib/python3.6/dist-packages (from transformers==2.8.0) (0.0.43)\n",
            "Requirement already satisfied: tokenizers==0.5.2 in /usr/local/lib/python3.6/dist-packages (from transformers==2.8.0) (0.5.2)\n",
            "Requirement already satisfied: sentencepiece in /usr/local/lib/python3.6/dist-packages (from transformers==2.8.0) (0.1.94)\n",
            "Requirement already satisfied: s3transfer<0.4.0,>=0.3.0 in /usr/local/lib/python3.6/dist-packages (from boto3->pytorch-pretrained-bert==0.6.2) (0.3.3)\n",
            "Requirement already satisfied: jmespath<1.0.0,>=0.7.1 in /usr/local/lib/python3.6/dist-packages (from boto3->pytorch-pretrained-bert==0.6.2) (0.10.0)\n",
            "Requirement already satisfied: botocore<1.20.0,>=1.19.40 in /usr/local/lib/python3.6/dist-packages (from boto3->pytorch-pretrained-bert==0.6.2) (1.19.40)\n",
            "Requirement already satisfied: idna<3,>=2.5 in /usr/local/lib/python3.6/dist-packages (from requests->pytorch-pretrained-bert==0.6.2) (2.10)\n",
            "Requirement already satisfied: chardet<4,>=3.0.2 in /usr/local/lib/python3.6/dist-packages (from requests->pytorch-pretrained-bert==0.6.2) (3.0.4)\n",
            "Requirement already satisfied: certifi>=2017.4.17 in /usr/local/lib/python3.6/dist-packages (from requests->pytorch-pretrained-bert==0.6.2) (2020.12.5)\n",
            "Requirement already satisfied: urllib3!=1.25.0,!=1.25.1,<1.26,>=1.21.1 in /usr/local/lib/python3.6/dist-packages (from requests->pytorch-pretrained-bert==0.6.2) (1.24.3)\n",
            "Requirement already satisfied: six in /usr/local/lib/python3.6/dist-packages (from sacremoses->transformers==2.8.0) (1.15.0)\n",
            "Requirement already satisfied: click in /usr/local/lib/python3.6/dist-packages (from sacremoses->transformers==2.8.0) (7.1.2)\n",
            "Requirement already satisfied: python-dateutil<3.0.0,>=2.1 in /usr/local/lib/python3.6/dist-packages (from botocore<1.20.0,>=1.19.40->boto3->pytorch-pretrained-bert==0.6.2) (2.8.1)\n"
          ],
          "name": "stdout"
        }
      ]
    },
    {
      "cell_type": "code",
      "metadata": {
        "colab": {
          "base_uri": "https://localhost:8080/"
        },
        "id": "kzss9Vz2OrS5",
        "outputId": "cd2a5a37-8393-4fe5-d8c1-99d6575ea073"
      },
      "source": [
        "import transformers\n",
        "from transformers import BertModel, BertTokenizer, AdamW, get_linear_schedule_with_warmup\n",
        "import torch\n",
        "\n",
        "import random\n",
        "import numpy as np\n",
        "import pandas as pd\n",
        "import seaborn as sns\n",
        "from pylab import rcParams\n",
        "import matplotlib.pyplot as plt\n",
        "from matplotlib import rc\n",
        "\n",
        "from sklearn.model_selection import train_test_split\n",
        "from sklearn.metrics import confusion_matrix, classification_report\n",
        "from collections import defaultdict\n",
        "from textwrap import wrap\n",
        "from torch import nn, optim\n",
        "from torch.utils.data import Dataset, DataLoader\n",
        "\n",
        "\n",
        "import os\n",
        "os.environ[\"TOKENIZERS_PARALLELISM\"] = \"false\"\n",
        "RANDOM_SEED = 42\n",
        "np.random.seed(RANDOM_SEED)\n",
        "torch.manual_seed(RANDOM_SEED)\n",
        "\n",
        "device = torch.device(\"cuda:0\" if torch.cuda.is_available() else \"cpu\")\n",
        "device"
      ],
      "execution_count": 37,
      "outputs": [
        {
          "output_type": "execute_result",
          "data": {
            "text/plain": [
              "device(type='cuda', index=0)"
            ]
          },
          "metadata": {
            "tags": []
          },
          "execution_count": 37
        }
      ]
    },
    {
      "cell_type": "code",
      "metadata": {
        "colab": {
          "base_uri": "https://localhost:8080/"
        },
        "id": "2MaF7bggOrS-",
        "outputId": "eb2741af-ea26-4295-b9ff-0aa591ca0c33"
      },
      "source": [
        "df = pd.read_csv(\"/home/train.csv\", sep=\"@\")\n",
        "df.columns = ['text', 'sentiment']\n",
        "print(df.sentiment)"
      ],
      "execution_count": 38,
      "outputs": [
        {
          "output_type": "stream",
          "text": [
            "0        neutral\n",
            "1       negative\n",
            "2       positive\n",
            "3       positive\n",
            "4       positive\n",
            "          ...   \n",
            "4840    negative\n",
            "4841     neutral\n",
            "4842    negative\n",
            "4843    negative\n",
            "4844    negative\n",
            "Name: sentiment, Length: 4845, dtype: object\n"
          ],
          "name": "stdout"
        }
      ]
    },
    {
      "cell_type": "code",
      "metadata": {
        "colab": {
          "base_uri": "https://localhost:8080/",
          "height": 206
        },
        "id": "gXBWaND2OrTA",
        "outputId": "60c2d737-1d06-42ef-f609-d4ef65943cb4"
      },
      "source": [
        "def to_sentiment(rating):\n",
        "  rating = str(rating)\n",
        "  if rating == 'negative':\n",
        "    return 0\n",
        "  elif rating == 'neutral':\n",
        "    return 1\n",
        "  else: \n",
        "    return 2\n",
        "\n",
        "df['sentiment'] = df.sentiment.apply(to_sentiment)\n",
        "df.head()\n"
      ],
      "execution_count": 39,
      "outputs": [
        {
          "output_type": "execute_result",
          "data": {
            "text/html": [
              "<div>\n",
              "<style scoped>\n",
              "    .dataframe tbody tr th:only-of-type {\n",
              "        vertical-align: middle;\n",
              "    }\n",
              "\n",
              "    .dataframe tbody tr th {\n",
              "        vertical-align: top;\n",
              "    }\n",
              "\n",
              "    .dataframe thead th {\n",
              "        text-align: right;\n",
              "    }\n",
              "</style>\n",
              "<table border=\"1\" class=\"dataframe\">\n",
              "  <thead>\n",
              "    <tr style=\"text-align: right;\">\n",
              "      <th></th>\n",
              "      <th>text</th>\n",
              "      <th>sentiment</th>\n",
              "    </tr>\n",
              "  </thead>\n",
              "  <tbody>\n",
              "    <tr>\n",
              "      <th>0</th>\n",
              "      <td>Technopolis plans to develop in stages an area...</td>\n",
              "      <td>1</td>\n",
              "    </tr>\n",
              "    <tr>\n",
              "      <th>1</th>\n",
              "      <td>The international electronic industry company ...</td>\n",
              "      <td>0</td>\n",
              "    </tr>\n",
              "    <tr>\n",
              "      <th>2</th>\n",
              "      <td>With the new production plant the company woul...</td>\n",
              "      <td>2</td>\n",
              "    </tr>\n",
              "    <tr>\n",
              "      <th>3</th>\n",
              "      <td>According to the company 's updated strategy f...</td>\n",
              "      <td>2</td>\n",
              "    </tr>\n",
              "    <tr>\n",
              "      <th>4</th>\n",
              "      <td>FINANCING OF ASPOCOMP 'S GROWTH Aspocomp is ag...</td>\n",
              "      <td>2</td>\n",
              "    </tr>\n",
              "  </tbody>\n",
              "</table>\n",
              "</div>"
            ],
            "text/plain": [
              "                                                text  sentiment\n",
              "0  Technopolis plans to develop in stages an area...          1\n",
              "1  The international electronic industry company ...          0\n",
              "2  With the new production plant the company woul...          2\n",
              "3  According to the company 's updated strategy f...          2\n",
              "4  FINANCING OF ASPOCOMP 'S GROWTH Aspocomp is ag...          2"
            ]
          },
          "metadata": {
            "tags": []
          },
          "execution_count": 39
        }
      ]
    },
    {
      "cell_type": "code",
      "metadata": {
        "id": "NPgP4Up3OrTB"
      },
      "source": [
        "class_names = ['negative', 'neutral', 'positive']"
      ],
      "execution_count": 40,
      "outputs": []
    },
    {
      "cell_type": "code",
      "metadata": {
        "id": "kr1rQmgmOrTD"
      },
      "source": [
        "PRE_TRAINED_MODEL_NAME = 'bert-base-cased'\n",
        "tokenizer = BertTokenizer.from_pretrained(PRE_TRAINED_MODEL_NAME,return_dict=False)"
      ],
      "execution_count": 41,
      "outputs": []
    },
    {
      "cell_type": "code",
      "metadata": {
        "id": "2mpYAYh5OrTD"
      },
      "source": [
        "\n",
        "token_lens = []\n",
        "\n",
        "for txt in df.text:\n",
        "  tokens = tokenizer.encode(txt, max_length=512)\n",
        "  token_lens.append(len(tokens))"
      ],
      "execution_count": 42,
      "outputs": []
    },
    {
      "cell_type": "code",
      "metadata": {
        "colab": {
          "base_uri": "https://localhost:8080/"
        },
        "id": "TkX6jjEGOrTF",
        "outputId": "1776c0c1-f6ce-40cd-e2f0-fefaf6ef7403"
      },
      "source": [
        "token_lens = []\n",
        "\n",
        "for txt in df.text:\n",
        "    tokens = tokenizer.encode(txt, max_length=512)\n",
        "    token_lens.append(len(tokens))\n",
        "\n",
        "print('len', token_lens)\n"
      ],
      "execution_count": 43,
      "outputs": [
        {
          "output_type": "stream",
          "text": [
            "len [37, 43, 36, 52, 45, 60, 43, 36, 35, 43, 54, 48, 53, 51, 46, 73, 61, 32, 36, 27, 50, 66, 57, 50, 47, 39, 41, 40, 39, 46, 48, 44, 39, 39, 58, 37, 70, 27, 41, 51, 52, 57, 33, 10, 13, 16, 44, 34, 57, 36, 67, 48, 73, 56, 35, 59, 37, 62, 31, 26, 19, 85, 44, 36, 72, 72, 79, 37, 30, 44, 19, 31, 42, 66, 33, 37, 47, 67, 67, 40, 20, 36, 32, 55, 28, 51, 25, 39, 25, 38, 43, 57, 41, 43, 41, 44, 47, 15, 26, 40, 22, 30, 16, 19, 34, 34, 27, 44, 21, 28, 29, 26, 43, 29, 39, 27, 17, 28, 26, 23, 55, 26, 39, 48, 16, 21, 45, 34, 16, 39, 26, 38, 23, 24, 24, 31, 29, 59, 40, 33, 29, 41, 34, 43, 28, 54, 37, 38, 36, 25, 41, 21, 22, 18, 14, 38, 35, 25, 22, 45, 40, 41, 38, 37, 37, 43, 41, 42, 42, 42, 40, 40, 41, 43, 41, 10, 11, 24, 44, 26, 26, 26, 26, 21, 19, 39, 68, 22, 50, 71, 41, 64, 61, 68, 49, 60, 59, 56, 62, 64, 50, 22, 33, 34, 50, 34, 24, 47, 56, 19, 20, 48, 38, 35, 33, 32, 36, 36, 36, 37, 30, 20, 32, 49, 28, 26, 65, 62, 63, 64, 72, 22, 25, 70, 30, 26, 24, 29, 28, 25, 58, 22, 20, 28, 26, 28, 28, 24, 28, 22, 22, 28, 22, 18, 30, 24, 23, 25, 50, 20, 18, 15, 32, 43, 30, 30, 26, 26, 28, 18, 32, 26, 28, 25, 28, 16, 38, 48, 8, 29, 46, 35, 53, 16, 17, 16, 29, 19, 23, 32, 39, 25, 36, 57, 15, 39, 66, 20, 29, 29, 29, 26, 21, 22, 30, 42, 23, 31, 25, 26, 34, 23, 27, 22, 23, 39, 47, 51, 31, 41, 28, 26, 29, 22, 36, 24, 27, 37, 18, 17, 65, 50, 58, 29, 64, 62, 15, 19, 41, 42, 57, 25, 24, 31, 52, 23, 14, 49, 22, 40, 25, 64, 19, 32, 28, 12, 23, 29, 28, 25, 21, 19, 24, 24, 34, 23, 20, 11, 23, 21, 44, 28, 14, 40, 26, 31, 34, 31, 68, 22, 33, 25, 27, 27, 30, 21, 40, 16, 33, 31, 35, 18, 77, 42, 29, 49, 63, 36, 63, 16, 20, 51, 36, 12, 44, 44, 52, 19, 37, 30, 25, 19, 47, 25, 41, 71, 69, 41, 36, 50, 41, 41, 41, 24, 52, 57, 61, 74, 28, 44, 29, 25, 38, 31, 29, 23, 15, 82, 52, 42, 18, 45, 35, 29, 36, 25, 39, 23, 30, 42, 13, 24, 14, 17, 32, 27, 48, 49, 56, 17, 47, 37, 56, 19, 63, 42, 17, 34, 23, 30, 37, 18, 32, 42, 52, 48, 38, 26, 44, 30, 42, 21, 22, 38, 43, 27, 19, 59, 52, 45, 37, 56, 22, 34, 21, 24, 53, 24, 34, 26, 16, 33, 20, 28, 36, 43, 53, 25, 27, 21, 19, 18, 27, 30, 43, 27, 46, 26, 22, 17, 13, 20, 14, 48, 15, 20, 21, 48, 25, 41, 28, 71, 36, 18, 34, 30, 21, 33, 35, 38, 23, 31, 33, 15, 41, 29, 36, 49, 72, 72, 45, 27, 23, 38, 49, 50, 25, 49, 34, 51, 15, 45, 20, 25, 25, 22, 36, 32, 31, 42, 35, 40, 49, 48, 32, 51, 29, 64, 19, 39, 25, 40, 37, 33, 42, 33, 48, 57, 61, 19, 67, 50, 28, 14, 29, 15, 24, 39, 18, 20, 34, 55, 37, 23, 56, 43, 32, 42, 35, 24, 38, 64, 23, 31, 48, 35, 66, 26, 35, 47, 27, 34, 10, 28, 21, 29, 50, 47, 52, 32, 42, 17, 38, 25, 37, 25, 31, 18, 25, 31, 58, 75, 55, 60, 62, 66, 41, 37, 38, 61, 35, 56, 57, 36, 36, 61, 47, 82, 23, 14, 29, 37, 48, 22, 17, 22, 32, 25, 73, 77, 32, 27, 63, 33, 63, 35, 36, 65, 68, 29, 39, 27, 25, 41, 33, 41, 25, 28, 42, 41, 29, 28, 11, 46, 27, 57, 68, 62, 20, 46, 25, 40, 25, 63, 37, 51, 47, 53, 40, 56, 63, 18, 27, 35, 31, 31, 33, 33, 29, 47, 29, 33, 27, 30, 32, 51, 63, 45, 41, 27, 23, 32, 17, 25, 44, 27, 28, 48, 30, 17, 22, 45, 26, 39, 33, 17, 61, 22, 34, 41, 32, 29, 36, 41, 28, 35, 36, 31, 16, 47, 16, 23, 44, 48, 19, 37, 39, 29, 34, 24, 13, 58, 21, 29, 22, 12, 22, 40, 42, 28, 21, 34, 17, 34, 28, 17, 15, 22, 22, 19, 17, 33, 31, 32, 47, 17, 21, 22, 37, 59, 61, 39, 24, 37, 41, 22, 30, 28, 17, 39, 42, 41, 32, 21, 39, 27, 31, 25, 34, 59, 14, 40, 31, 50, 18, 42, 13, 19, 43, 43, 21, 36, 39, 36, 69, 50, 60, 39, 70, 31, 30, 32, 21, 38, 25, 42, 63, 39, 20, 17, 24, 35, 28, 17, 16, 15, 31, 37, 35, 66, 71, 59, 40, 36, 34, 22, 20, 29, 34, 77, 38, 50, 39, 46, 22, 30, 28, 25, 25, 27, 47, 21, 44, 15, 19, 30, 48, 17, 27, 20, 28, 36, 36, 25, 32, 17, 28, 50, 35, 36, 31, 17, 15, 14, 16, 20, 27, 59, 26, 35, 45, 15, 18, 11, 42, 37, 33, 29, 39, 37, 18, 27, 15, 14, 37, 23, 42, 25, 26, 28, 36, 18, 68, 53, 45, 32, 23, 46, 24, 33, 42, 28, 22, 18, 41, 29, 68, 19, 13, 50, 25, 51, 30, 28, 37, 33, 21, 17, 19, 27, 28, 22, 22, 17, 9, 44, 33, 17, 10, 16, 36, 36, 12, 17, 25, 52, 32, 28, 19, 15, 42, 32, 30, 22, 26, 20, 30, 47, 16, 36, 13, 24, 15, 34, 49, 23, 19, 14, 37, 68, 33, 24, 43, 21, 30, 22, 26, 43, 21, 26, 36, 33, 49, 43, 37, 25, 24, 50, 29, 33, 71, 35, 6, 24, 29, 35, 21, 27, 62, 54, 47, 32, 48, 20, 17, 34, 35, 42, 16, 21, 29, 30, 48, 32, 43, 40, 19, 15, 15, 50, 21, 18, 47, 44, 35, 32, 37, 20, 47, 53, 39, 27, 44, 31, 43, 37, 30, 16, 32, 41, 81, 23, 22, 35, 49, 25, 33, 19, 29, 32, 33, 33, 18, 14, 22, 31, 14, 51, 21, 54, 60, 14, 21, 12, 20, 28, 22, 15, 15, 18, 42, 17, 14, 46, 24, 45, 15, 29, 37, 56, 39, 18, 24, 15, 20, 4, 12, 18, 16, 45, 32, 32, 21, 28, 20, 35, 22, 51, 18, 22, 18, 15, 30, 28, 56, 29, 17, 18, 18, 27, 22, 36, 52, 42, 44, 26, 30, 42, 25, 31, 29, 31, 20, 34, 43, 30, 16, 31, 25, 37, 70, 19, 47, 54, 16, 16, 16, 38, 14, 14, 22, 25, 26, 24, 29, 38, 25, 29, 28, 29, 47, 38, 38, 13, 25, 20, 13, 27, 26, 43, 20, 13, 12, 19, 22, 28, 33, 16, 42, 22, 14, 17, 60, 18, 20, 46, 20, 34, 19, 45, 18, 31, 33, 31, 20, 51, 25, 36, 64, 41, 13, 43, 70, 54, 26, 27, 26, 16, 21, 50, 47, 46, 44, 25, 26, 28, 43, 38, 52, 30, 30, 52, 13, 80, 28, 27, 42, 15, 17, 30, 39, 18, 24, 25, 33, 39, 8, 19, 33, 22, 22, 14, 23, 27, 40, 20, 16, 27, 45, 47, 27, 25, 77, 35, 29, 46, 37, 38, 30, 43, 28, 14, 21, 27, 17, 31, 47, 76, 33, 28, 32, 41, 42, 57, 33, 40, 31, 26, 30, 35, 22, 19, 38, 12, 28, 35, 35, 35, 18, 33, 10, 17, 54, 43, 22, 26, 36, 17, 31, 41, 18, 20, 35, 47, 40, 47, 33, 25, 49, 33, 37, 25, 29, 34, 22, 25, 47, 11, 18, 36, 40, 22, 12, 27, 13, 17, 19, 30, 61, 17, 10, 32, 24, 45, 26, 64, 15, 29, 21, 23, 22, 23, 24, 15, 36, 14, 24, 16, 17, 36, 16, 17, 23, 47, 17, 16, 37, 21, 50, 21, 39, 20, 27, 42, 48, 31, 28, 19, 45, 28, 32, 30, 40, 39, 50, 17, 23, 21, 21, 18, 20, 40, 36, 14, 38, 28, 22, 74, 22, 28, 18, 12, 29, 26, 76, 76, 17, 42, 43, 25, 36, 18, 24, 35, 22, 21, 24, 29, 42, 22, 36, 32, 16, 18, 12, 23, 21, 31, 54, 40, 18, 15, 26, 25, 32, 20, 44, 35, 32, 13, 29, 53, 29, 25, 24, 16, 19, 22, 33, 39, 7, 18, 17, 45, 61, 24, 53, 49, 15, 17, 20, 26, 23, 26, 28, 29, 36, 47, 12, 20, 45, 49, 25, 33, 30, 31, 29, 56, 21, 39, 32, 20, 15, 29, 24, 32, 18, 35, 25, 33, 22, 39, 31, 57, 22, 24, 21, 23, 19, 36, 33, 39, 45, 18, 18, 34, 40, 17, 22, 10, 14, 71, 45, 45, 69, 25, 52, 36, 21, 34, 24, 18, 27, 27, 50, 36, 29, 37, 21, 27, 28, 24, 31, 43, 21, 24, 37, 45, 37, 34, 21, 23, 23, 55, 28, 21, 36, 48, 8, 12, 29, 26, 32, 18, 51, 30, 27, 18, 43, 18, 28, 39, 37, 36, 40, 29, 33, 35, 33, 33, 33, 33, 35, 34, 25, 37, 32, 45, 20, 31, 25, 25, 19, 52, 13, 28, 40, 26, 48, 22, 29, 19, 52, 20, 13, 32, 62, 26, 42, 24, 24, 69, 39, 32, 19, 48, 26, 25, 52, 34, 61, 41, 25, 38, 23, 11, 21, 23, 15, 20, 23, 21, 24, 31, 14, 29, 16, 23, 68, 22, 21, 13, 13, 12, 37, 44, 51, 7, 42, 40, 15, 36, 21, 26, 18, 39, 34, 24, 15, 17, 22, 29, 45, 17, 30, 31, 19, 16, 36, 19, 13, 28, 19, 26, 28, 27, 51, 25, 19, 38, 35, 12, 29, 22, 20, 21, 23, 41, 35, 31, 22, 47, 50, 25, 33, 37, 44, 32, 34, 34, 31, 24, 50, 48, 56, 43, 47, 30, 34, 28, 11, 34, 13, 54, 44, 43, 37, 22, 28, 34, 36, 24, 51, 54, 44, 17, 32, 29, 31, 20, 23, 30, 42, 48, 28, 29, 28, 30, 29, 21, 43, 26, 42, 49, 36, 27, 23, 30, 23, 45, 37, 57, 29, 55, 68, 36, 25, 38, 27, 44, 30, 33, 23, 17, 17, 23, 37, 41, 40, 46, 28, 49, 30, 49, 40, 23, 53, 28, 53, 47, 50, 30, 16, 45, 37, 24, 36, 45, 48, 16, 26, 23, 49, 23, 71, 20, 30, 18, 32, 18, 53, 37, 28, 41, 31, 21, 43, 56, 19, 30, 25, 22, 24, 52, 31, 39, 42, 16, 40, 34, 26, 30, 19, 48, 39, 29, 22, 15, 47, 27, 35, 25, 42, 9, 26, 9, 20, 30, 15, 27, 44, 67, 18, 38, 33, 32, 38, 43, 27, 32, 17, 22, 24, 30, 23, 22, 37, 53, 22, 18, 28, 20, 155, 42, 34, 27, 32, 38, 38, 21, 27, 52, 20, 36, 20, 24, 17, 38, 31, 24, 28, 36, 47, 24, 23, 34, 39, 20, 31, 36, 67, 19, 18, 24, 37, 26, 71, 13, 29, 25, 28, 26, 35, 34, 39, 18, 33, 35, 29, 51, 31, 17, 21, 49, 30, 30, 21, 31, 27, 19, 33, 42, 28, 29, 18, 30, 68, 32, 18, 21, 50, 32, 43, 25, 48, 39, 39, 34, 31, 44, 46, 60, 31, 24, 34, 33, 27, 25, 27, 44, 56, 51, 57, 30, 35, 53, 14, 48, 27, 53, 21, 20, 18, 20, 43, 27, 34, 51, 20, 27, 49, 19, 14, 18, 27, 22, 30, 13, 27, 29, 21, 32, 26, 32, 44, 70, 35, 36, 32, 23, 48, 39, 28, 60, 24, 52, 68, 23, 22, 65, 33, 54, 24, 19, 18, 37, 12, 19, 20, 26, 23, 27, 57, 16, 20, 27, 26, 26, 69, 33, 27, 25, 24, 13, 50, 39, 25, 25, 12, 49, 26, 31, 25, 19, 27, 25, 45, 28, 51, 23, 28, 27, 32, 23, 28, 28, 26, 22, 22, 52, 27, 26, 34, 40, 43, 17, 16, 52, 36, 12, 54, 37, 25, 33, 32, 14, 54, 41, 52, 39, 25, 19, 54, 33, 31, 33, 36, 16, 28, 46, 29, 37, 54, 27, 20, 79, 24, 31, 23, 36, 22, 18, 17, 33, 9, 61, 58, 56, 55, 50, 56, 56, 55, 51, 54, 66, 43, 27, 52, 50, 37, 36, 12, 18, 44, 19, 19, 16, 48, 31, 23, 17, 51, 13, 19, 21, 64, 19, 42, 21, 36, 30, 30, 31, 29, 21, 30, 15, 26, 62, 46, 40, 29, 44, 42, 52, 79, 45, 42, 34, 66, 34, 27, 17, 17, 19, 18, 16, 36, 19, 16, 22, 18, 27, 45, 27, 12, 17, 46, 28, 31, 21, 32, 34, 35, 35, 33, 41, 21, 17, 31, 38, 44, 17, 17, 18, 68, 20, 61, 52, 25, 27, 31, 53, 17, 30, 59, 28, 20, 27, 12, 18, 12, 15, 25, 16, 23, 17, 21, 17, 12, 37, 28, 27, 14, 44, 30, 19, 9, 31, 30, 26, 58, 18, 64, 22, 26, 26, 25, 25, 25, 13, 14, 20, 10, 22, 20, 24, 21, 34, 25, 20, 29, 20, 26, 22, 17, 22, 37, 30, 27, 50, 44, 17, 21, 31, 38, 21, 64, 41, 16, 42, 39, 45, 67, 61, 57, 57, 53, 30, 52, 24, 34, 65, 59, 63, 61, 61, 66, 61, 14, 23, 40, 30, 31, 64, 63, 38, 33, 12, 37, 28, 19, 25, 29, 27, 32, 28, 50, 24, 19, 55, 41, 13, 27, 48, 22, 33, 39, 12, 26, 36, 16, 20, 15, 27, 14, 38, 31, 40, 40, 27, 12, 44, 13, 27, 23, 52, 18, 29, 20, 49, 23, 41, 19, 15, 23, 38, 14, 52, 12, 28, 24, 25, 21, 43, 19, 22, 12, 15, 34, 111, 41, 23, 21, 9, 20, 79, 22, 47, 53, 60, 21, 54, 58, 59, 27, 28, 74, 16, 21, 35, 22, 31, 20, 34, 31, 39, 30, 23, 45, 32, 27, 25, 27, 24, 36, 15, 24, 49, 30, 17, 31, 28, 19, 19, 16, 35, 6, 37, 24, 14, 24, 11, 32, 29, 16, 27, 33, 34, 54, 64, 26, 34, 32, 16, 23, 26, 25, 28, 15, 30, 17, 44, 21, 28, 49, 30, 28, 30, 31, 20, 37, 33, 22, 40, 10, 15, 18, 20, 28, 20, 26, 20, 49, 45, 18, 38, 14, 45, 23, 35, 26, 23, 23, 52, 50, 49, 23, 28, 21, 48, 20, 20, 35, 42, 27, 40, 10, 16, 10, 29, 53, 51, 35, 36, 67, 41, 21, 26, 25, 22, 66, 22, 28, 16, 71, 26, 19, 30, 29, 24, 44, 41, 30, 24, 47, 18, 27, 14, 18, 36, 23, 25, 35, 37, 17, 21, 66, 23, 17, 16, 36, 52, 29, 60, 25, 5, 12, 8, 8, 8, 8, 12, 41, 8, 36, 18, 36, 12, 28, 24, 32, 29, 9, 60, 63, 24, 41, 27, 13, 50, 25, 14, 51, 24, 21, 14, 15, 9, 39, 28, 13, 7, 38, 47, 22, 34, 15, 17, 20, 70, 45, 53, 26, 14, 14, 46, 7, 20, 63, 57, 19, 28, 29, 34, 46, 40, 32, 19, 23, 39, 39, 9, 56, 29, 18, 38, 22, 20, 29, 20, 12, 17, 34, 26, 36, 25, 25, 28, 35, 23, 29, 46, 30, 15, 15, 14, 20, 17, 14, 28, 32, 37, 13, 29, 32, 32, 23, 18, 14, 18, 18, 15, 41, 35, 18, 25, 45, 22, 18, 20, 16, 23, 32, 15, 26, 18, 25, 12, 27, 32, 14, 22, 23, 31, 38, 27, 15, 18, 18, 17, 28, 17, 62, 48, 23, 14, 27, 28, 18, 12, 24, 14, 11, 27, 21, 28, 37, 20, 25, 34, 29, 15, 28, 48, 16, 42, 34, 52, 21, 10, 20, 13, 22, 20, 37, 28, 30, 25, 12, 19, 23, 28, 56, 19, 11, 20, 30, 23, 31, 20, 15, 13, 19, 18, 20, 13, 19, 16, 38, 30, 32, 50, 14, 17, 16, 28, 49, 13, 28, 20, 24, 18, 69, 50, 63, 44, 49, 94, 18, 43, 20, 12, 20, 19, 31, 50, 52, 51, 61, 38, 21, 30, 32, 27, 35, 22, 32, 34, 32, 29, 53, 29, 47, 35, 34, 35, 28, 34, 22, 39, 16, 31, 33, 19, 16, 24, 24, 22, 42, 26, 19, 39, 42, 50, 28, 19, 57, 38, 19, 23, 78, 37, 49, 53, 55, 35, 72, 44, 51, 98, 68, 20, 21, 52, 24, 25, 32, 71, 38, 14, 39, 19, 50, 41, 14, 37, 21, 34, 20, 18, 25, 32, 38, 43, 22, 13, 51, 15, 48, 24, 17, 13, 38, 56, 24, 13, 58, 58, 21, 18, 30, 24, 12, 23, 102, 35, 35, 19, 47, 41, 21, 46, 21, 33, 27, 10, 29, 30, 13, 62, 53, 47, 13, 64, 59, 48, 33, 35, 49, 55, 11, 18, 13, 16, 28, 14, 41, 20, 31, 23, 33, 34, 24, 42, 52, 9, 32, 16, 33, 43, 46, 20, 25, 47, 20, 11, 8, 10, 8, 10, 51, 51, 44, 72, 46, 51, 50, 21, 53, 74, 23, 47, 65, 34, 20, 36, 19, 26, 29, 28, 37, 32, 41, 28, 69, 32, 34, 49, 14, 27, 43, 23, 33, 31, 35, 19, 29, 31, 56, 73, 51, 58, 20, 17, 26, 32, 33, 20, 16, 29, 32, 35, 34, 59, 33, 35, 53, 44, 30, 17, 22, 33, 26, 14, 55, 24, 32, 27, 45, 19, 26, 30, 28, 17, 18, 28, 34, 48, 18, 8, 24, 16, 36, 23, 24, 32, 33, 30, 11, 44, 7, 20, 13, 12, 28, 17, 25, 32, 53, 13, 17, 60, 43, 17, 17, 28, 24, 50, 26, 25, 40, 30, 41, 34, 18, 26, 34, 61, 43, 23, 56, 57, 64, 67, 68, 12, 59, 33, 100, 23, 16, 18, 42, 41, 28, 33, 36, 30, 26, 50, 42, 23, 18, 40, 70, 28, 35, 8, 20, 15, 27, 72, 12, 14, 30, 15, 24, 8, 8, 8, 14, 14, 28, 36, 19, 83, 19, 12, 10, 15, 22, 18, 16, 21, 22, 35, 31, 26, 25, 17, 26, 26, 8, 36, 47, 40, 13, 26, 26, 12, 18, 30, 18, 66, 50, 28, 34, 28, 59, 42, 64, 64, 40, 29, 14, 17, 9, 19, 18, 29, 34, 26, 78, 33, 35, 22, 16, 34, 47, 70, 56, 23, 21, 51, 28, 65, 33, 33, 69, 49, 18, 40, 47, 18, 46, 24, 76, 30, 36, 52, 32, 24, 45, 29, 25, 53, 51, 32, 78, 17, 32, 48, 52, 38, 35, 19, 62, 11, 8, 38, 25, 35, 26, 16, 27, 23, 26, 30, 22, 33, 17, 16, 30, 20, 29, 32, 20, 20, 53, 29, 42, 29, 53, 27, 49, 16, 15, 17, 16, 44, 14, 14, 17, 15, 14, 20, 20, 37, 34, 23, 22, 30, 16, 12, 40, 25, 25, 25, 20, 20, 12, 15, 49, 49, 23, 40, 27, 21, 20, 26, 31, 24, 26, 31, 13, 17, 14, 34, 9, 17, 33, 26, 24, 32, 13, 20, 29, 36, 33, 21, 18, 11, 19, 10, 25, 20, 20, 26, 57, 20, 31, 23, 28, 12, 12, 31, 26, 17, 29, 70, 18, 34, 37, 37, 39, 30, 27, 21, 33, 25, 23, 36, 23, 14, 31, 25, 16, 12, 23, 33, 12, 30, 18, 32, 41, 35, 39, 22, 24, 49, 23, 14, 19, 21, 11, 21, 27, 40, 14, 29, 43, 23, 16, 14, 16, 55, 20, 12, 22, 18, 27, 41, 29, 18, 16, 22, 46, 49, 58, 36, 27, 16, 15, 25, 48, 24, 15, 16, 14, 29, 58, 21, 28, 27, 21, 32, 20, 21, 24, 12, 32, 20, 14, 27, 25, 12, 9, 10, 12, 15, 19, 27, 43, 16, 46, 28, 9, 9, 28, 33, 59, 20, 20, 12, 21, 18, 44, 28, 21, 24, 35, 19, 13, 15, 23, 35, 41, 16, 25, 20, 17, 53, 28, 17, 32, 27, 24, 16, 36, 23, 55, 13, 30, 38, 15, 27, 15, 14, 16, 14, 14, 15, 15, 15, 15, 15, 15, 15, 16, 25, 35, 26, 35, 30, 14, 36, 10, 11, 19, 27, 16, 38, 31, 26, 44, 28, 24, 14, 26, 21, 21, 20, 9, 75, 23, 24, 38, 26, 41, 40, 34, 51, 11, 28, 33, 47, 24, 12, 59, 20, 21, 14, 21, 30, 26, 32, 18, 6, 19, 18, 14, 44, 37, 42, 30, 15, 30, 31, 33, 92, 22, 8, 124, 22, 24, 54, 18, 47, 21, 45, 28, 23, 17, 25, 30, 29, 29, 25, 17, 33, 17, 24, 39, 9, 17, 59, 31, 56, 27, 58, 21, 28, 9, 17, 66, 18, 55, 50, 31, 40, 53, 51, 35, 28, 23, 46, 27, 24, 32, 31, 47, 55, 65, 33, 70, 75, 42, 60, 7, 18, 22, 24, 60, 67, 10, 14, 19, 15, 30, 22, 18, 14, 30, 40, 58, 23, 25, 23, 37, 35, 27, 19, 35, 18, 21, 37, 37, 27, 41, 31, 20, 23, 34, 28, 25, 59, 22, 27, 13, 20, 25, 40, 13, 21, 17, 30, 26, 14, 50, 23, 25, 28, 33, 25, 27, 64, 39, 39, 16, 38, 14, 38, 42, 53, 20, 44, 43, 27, 30, 40, 28, 24, 43, 52, 20, 37, 28, 28, 17, 25, 41, 18, 23, 30, 42, 47, 40, 21, 16, 28, 19, 19, 20, 27, 20, 23, 27, 19, 16, 15, 43, 52, 15, 21, 29, 43, 36, 32, 16, 17, 40, 29, 24, 13, 17, 35, 21, 50, 52, 38, 31, 47, 15, 31, 15, 22, 19, 39, 24, 33, 39, 25, 25, 54, 36, 20, 25, 27, 29, 35, 22, 37, 26, 31, 39, 46, 63, 31, 19, 30, 14, 22, 46, 41, 21, 21, 30, 59, 46, 57, 34, 30, 32, 27, 40, 70, 30, 19, 36, 24, 26, 11, 10, 9, 9, 29, 26, 10, 28, 18, 43, 29, 17, 35, 28, 40, 17, 22, 22, 40, 25, 42, 34, 54, 65, 14, 28, 13, 28, 26, 26, 16, 21, 15, 41, 42, 16, 21, 30, 28, 16, 47, 41, 27, 15, 21, 18, 17, 41, 51, 30, 22, 35, 28, 21, 23, 24, 22, 28, 54, 46, 28, 25, 16, 42, 35, 39, 58, 19, 21, 11, 27, 31, 21, 23, 29, 26, 52, 23, 13, 12, 17, 16, 34, 33, 48, 11, 11, 18, 22, 41, 32, 50, 31, 56, 37, 30, 32, 13, 19, 27, 30, 32, 17, 16, 33, 30, 26, 30, 29, 37, 36, 26, 36, 36, 17, 26, 28, 22, 12, 14, 15, 18, 36, 24, 26, 30, 35, 29, 24, 19, 28, 30, 26, 37, 17, 19, 56, 67, 71, 60, 15, 29, 23, 21, 49, 33, 18, 15, 15, 50, 14, 17, 14, 14, 43, 44, 12, 23, 44, 18, 14, 16, 29, 38, 20, 28, 57, 36, 28, 19, 29, 25, 43, 40, 21, 17, 22, 18, 53, 44, 29, 23, 39, 24, 22, 26, 29, 27, 22, 28, 11, 37, 24, 58, 27, 44, 19, 23, 41, 22, 16, 55, 22, 16, 17, 21, 41, 45, 34, 34, 42, 20, 14, 41, 11, 28, 25, 24, 20, 10, 27, 16, 16, 17, 17, 20, 31, 16, 19, 15, 14, 26, 66, 16, 27, 16, 29, 15, 43, 14, 14, 17, 12, 21, 11, 20, 18, 18, 34, 67, 17, 26, 15, 34, 28, 29, 17, 31, 24, 22, 23, 18, 15, 51, 28, 54, 26, 16, 38, 43, 41, 38, 14, 29, 41, 46, 24, 27, 38, 35, 26, 26, 23, 30, 47, 43, 11, 24, 38, 42, 14, 26, 28, 31, 35, 41, 33, 22, 37, 27, 24, 26, 62, 31, 27, 25, 54, 23, 34, 13, 47, 43, 33, 18, 42, 48, 43, 26, 23, 23, 24, 18, 24, 37, 55, 37, 29, 62, 33, 20, 42, 23, 20, 35, 30, 51, 17, 17, 38, 43, 31, 26, 33, 33, 33, 35, 39, 27, 30, 35, 30, 38, 17, 30, 27, 32, 33, 34, 25, 30, 17, 15, 36, 62, 39, 52, 51, 35, 34, 34, 32, 33, 21, 26, 34, 35, 48, 13, 15, 31, 32, 20, 64, 23, 37, 47, 42, 36, 25, 13, 41, 32, 17, 34, 14, 36, 23, 16, 34, 34, 34, 31, 46, 29, 25, 22, 19, 20, 16, 9, 43, 67, 58, 32, 66, 27, 24, 27, 10, 20, 26, 30, 27, 14, 19, 22, 24, 24, 19, 21, 36, 22, 13, 42, 20, 19, 32, 15, 28, 12, 24, 22, 17, 24, 38, 37, 30, 12, 24, 45, 41, 34, 32, 19, 39, 21, 22, 42, 19, 29, 33, 27, 31, 19, 21, 34, 23, 32, 28, 21, 32, 33, 8, 49, 32, 42, 27, 15, 36, 51, 17, 24, 49, 23, 26, 23, 22, 24, 38, 24, 27, 55, 22, 37, 57, 35, 47, 49, 48, 52, 24, 15, 24, 9, 33, 28, 21, 25, 16, 18, 18, 13, 27, 12, 21, 38, 27, 19, 30, 19, 11, 52, 65, 58, 35, 13, 29, 27, 26, 24, 15, 22, 20, 62, 10, 16, 24, 52, 16, 26, 18, 31, 23, 28, 21, 22, 16, 39, 21, 50, 30, 35, 41, 23, 24, 52, 45, 25, 37, 21, 22, 33, 16, 27, 20, 17, 27, 12, 14, 14, 20, 29, 22, 34, 25, 19, 30, 23, 28, 38, 10, 38, 23, 14, 20, 21, 23, 24, 19, 24, 13, 28, 39, 31, 18, 43, 9, 29, 42, 61, 14, 20, 29, 23, 25, 49, 49, 10, 30, 57, 29, 27, 14, 32, 57, 40, 49, 17, 27, 40, 17, 21, 47, 17, 14, 15, 29, 24, 24, 56, 17, 27, 33, 17, 12, 49, 37, 22, 25, 66, 26, 14, 10, 19, 19, 47, 22, 35, 23, 16, 24, 24, 25, 48, 20, 49, 49, 55, 24, 29, 25, 31, 22, 13, 27, 25, 15, 12, 31, 56, 28, 21, 29, 21, 11, 33, 53, 42, 16, 60, 48, 52, 44, 27, 30, 69, 33, 38, 15, 39, 18, 15, 27, 25, 26, 18, 24, 25, 37, 18, 32, 26, 42, 40, 40, 16, 53, 53, 38, 27, 46, 23, 32, 35, 30, 21, 13, 60, 19, 22, 23, 25, 36, 31, 37, 34, 25, 29, 14, 34, 23, 27, 33, 23, 16, 20, 32, 12, 18, 18, 53, 32, 33, 40, 24, 34, 28, 27, 44, 37, 18, 14, 23, 39, 25, 42, 20, 59, 26, 32, 40, 37, 34, 34, 28, 46, 27, 29, 47, 38, 48, 34, 34, 21, 26, 40, 22, 19, 36, 48, 39, 52, 36, 65, 48, 24, 30, 27, 16, 37, 28, 67, 32, 26, 22, 26, 26, 31, 22, 56, 38, 45, 36, 35, 33, 30, 45, 19, 34, 22, 32, 41, 60, 41, 58, 15, 30, 24, 19, 33, 78, 43, 57, 25, 48, 20, 27, 37, 26, 28, 21, 40, 22, 19, 34, 18, 53, 23, 23, 54, 26, 61, 66, 31, 60, 36, 21, 24, 43, 27, 79, 27, 50, 32, 16, 23, 12, 16, 41, 41, 31, 35, 52, 48, 43, 23, 29, 34, 57, 25, 17, 40, 67, 37, 34, 17, 31, 27, 39, 17, 25, 39, 31, 33, 45, 37, 39, 39, 36, 40, 39, 39, 61, 38, 36, 40, 36, 51, 52, 33, 27, 30, 32, 31, 29, 23, 34, 35, 26, 19, 21, 77, 10, 44, 32, 55, 52, 40, 32, 57, 40, 13, 30, 50, 44, 26, 68, 36, 74, 29, 58, 12, 47, 24, 44, 40, 19, 15, 47, 19, 34, 44, 63, 28, 41, 47, 30, 62, 12, 31, 27, 30, 16, 71, 41, 41, 36, 41, 68, 26, 45, 50, 51, 50, 59, 56, 49, 23, 20, 35, 32, 33, 32, 20, 26, 26, 65, 28, 30, 36, 21, 67, 58, 62, 56, 58, 61, 53, 35, 40, 63, 65, 66, 59, 71, 74, 28, 26, 43, 28, 26, 23, 14, 49, 22, 34, 24, 22, 24, 28, 48, 27, 30, 27, 15, 30, 33, 33, 24, 22, 27, 8, 37, 14, 24, 39, 42, 34, 21, 33, 41, 31, 30, 28, 16, 19, 38, 47, 43, 24, 36, 36, 24, 25, 42, 39, 26, 27, 28, 41, 15, 25, 34, 22, 17, 28, 23, 29, 29, 25, 30, 27, 30, 27, 24, 28, 31, 38, 13, 15, 25, 30, 41, 18, 34, 35, 29, 25, 32, 42, 20, 27, 48, 64, 25, 66, 66, 53, 17, 47, 35, 53, 37, 20, 24, 32, 28, 36, 26, 50, 30, 26, 30, 47, 48, 35, 25, 36, 38, 45, 33, 14, 26, 13, 22, 26, 21, 20, 47, 20, 26, 38, 63, 34, 34, 27, 34, 29, 29, 34, 42, 56, 47, 59, 49, 46, 32, 35, 42, 25, 29, 57, 32, 40, 26, 37, 55, 38, 49, 37, 64, 23]\n"
          ],
          "name": "stdout"
        }
      ]
    },
    {
      "cell_type": "code",
      "metadata": {
        "colab": {
          "base_uri": "https://localhost:8080/",
          "height": 335
        },
        "id": "rUsIxkNTOrTF",
        "outputId": "f54d9407-a3d6-4c5d-dcac-43ca503efea3"
      },
      "source": [
        "sns.distplot(token_lens)\n",
        "plt.xlim([0, 256]);\n",
        "plt.xlabel('Token count');"
      ],
      "execution_count": 44,
      "outputs": [
        {
          "output_type": "stream",
          "text": [
            "/usr/local/lib/python3.6/dist-packages/seaborn/distributions.py:2551: FutureWarning: `distplot` is a deprecated function and will be removed in a future version. Please adapt your code to use either `displot` (a figure-level function with similar flexibility) or `histplot` (an axes-level function for histograms).\n",
            "  warnings.warn(msg, FutureWarning)\n"
          ],
          "name": "stderr"
        },
        {
          "output_type": "display_data",
          "data": {
            "image/png": "[encoded data removed]",
            "text/plain": [
              "<Figure size 432x288 with 1 Axes>"
            ]
          },
          "metadata": {
            "tags": [],
            "needs_background": "light"
          }
        }
      ]
    },
    {
      "cell_type": "markdown",
      "metadata": {
        "id": "wp3AvEJFOrTG"
      },
      "source": [
        "Most of the reviews seem to contain less than 120tokens, but we'll be on the safe side and choose a maximum length of 160."
      ]
    },
    {
      "cell_type": "code",
      "metadata": {
        "id": "gN_C4t-0OrTH"
      },
      "source": [
        "MAX_LEN = 150"
      ],
      "execution_count": 45,
      "outputs": []
    },
    {
      "cell_type": "code",
      "metadata": {
        "id": "0kjQAyY_OrTI"
      },
      "source": [
        "class GPReviewDataset(Dataset):\n",
        "\n",
        "  def __init__(self, reviews, targets, tokenizer, max_len):\n",
        "    self.reviews = reviews\n",
        "    self.targets = targets\n",
        "    self.tokenizer = tokenizer\n",
        "    self.max_len = max_len\n",
        "  \n",
        "  def __len__(self):\n",
        "    return len(self.reviews)\n",
        "  \n",
        "  def __getitem__(self, item):\n",
        "    review = str(self.reviews[item])\n",
        "    target = self.targets[item]\n",
        "\n",
        "    encoding = self.tokenizer.encode_plus(\n",
        "      review,\n",
        "      add_special_tokens=True,\n",
        "      max_length=self.max_len,\n",
        "      return_token_type_ids=False,\n",
        "      pad_to_max_length=True,\n",
        "      return_attention_mask=True,\n",
        "      return_tensors='pt',\n",
        "    )\n",
        "\n",
        "    return {\n",
        "      'review_text': review,\n",
        "      'input_ids': encoding['input_ids'].flatten(),\n",
        "      'attention_mask': encoding['attention_mask'].flatten(),\n",
        "      'targets': torch.tensor(target, dtype=torch.long)\n",
        "    }"
      ],
      "execution_count": 46,
      "outputs": []
    },
    {
      "cell_type": "code",
      "metadata": {
        "colab": {
          "base_uri": "https://localhost:8080/"
        },
        "id": "jvmtz1SgOrTK",
        "outputId": "462b2d42-8d51-43d2-88e4-f8281af5dc10"
      },
      "source": [
        "RANDOM_SEED = random.seed(10)\n",
        "\n",
        "df_train, df_test = train_test_split(df, test_size=0.1, random_state=RANDOM_SEED)\n",
        "df_val, df_test = train_test_split(df_test, test_size=0.5, random_state=RANDOM_SEED)\n",
        "\n",
        "df_train.shape, df_val.shape, df_test.shape"
      ],
      "execution_count": 47,
      "outputs": [
        {
          "output_type": "execute_result",
          "data": {
            "text/plain": [
              "((4360, 2), (242, 2), (243, 2))"
            ]
          },
          "metadata": {
            "tags": []
          },
          "execution_count": 47
        }
      ]
    },
    {
      "cell_type": "code",
      "metadata": {
        "id": "Plr2HWTsOrTK"
      },
      "source": [
        "def create_data_loader(df, tokenizer, max_len, batch_size):\n",
        "  ds = GPReviewDataset(\n",
        "    reviews=df.text.to_numpy(),\n",
        "    targets=df.sentiment.to_numpy(),\n",
        "    tokenizer=tokenizer,\n",
        "    max_len=max_len\n",
        "  )\n",
        "\n",
        "  return DataLoader(\n",
        "    ds,\n",
        "    batch_size=batch_size,\n",
        "    num_workers=4\n",
        "  )"
      ],
      "execution_count": 48,
      "outputs": []
    },
    {
      "cell_type": "code",
      "metadata": {
        "colab": {
          "base_uri": "https://localhost:8080/"
        },
        "id": "GAw3VgQtOrTL",
        "outputId": "17951f43-650b-4614-c2a2-43be2df32258"
      },
      "source": [
        "BATCH_SIZE = 1\n",
        "\n",
        "train_data_loader = create_data_loader(df_train, tokenizer, MAX_LEN, BATCH_SIZE)\n",
        "val_data_loader = create_data_loader(df_val, tokenizer, MAX_LEN, BATCH_SIZE)\n",
        "test_data_loader = create_data_loader(df_test, tokenizer, MAX_LEN, BATCH_SIZE)\n",
        "\n",
        "train_data_loader"
      ],
      "execution_count": 49,
      "outputs": [
        {
          "output_type": "execute_result",
          "data": {
            "text/plain": [
              "<torch.utils.data.dataloader.DataLoader at 0x7fe170100390>"
            ]
          },
          "metadata": {
            "tags": []
          },
          "execution_count": 49
        }
      ]
    },
    {
      "cell_type": "code",
      "metadata": {
        "id": "I3h5SgtTOrTM"
      },
      "source": [
        ""
      ],
      "execution_count": 49,
      "outputs": []
    },
    {
      "cell_type": "code",
      "metadata": {
        "id": "ErelPkLcOrTM"
      },
      "source": [
        ""
      ],
      "execution_count": 49,
      "outputs": []
    },
    {
      "cell_type": "markdown",
      "metadata": {
        "id": "uwNl8s3ZOrTM"
      },
      "source": [
        "TRAINING"
      ]
    },
    {
      "cell_type": "code",
      "metadata": {
        "id": "G4iaMqZGOrTN"
      },
      "source": [
        "class SentimentClassifier(nn.Module):\n",
        "\n",
        "  def __init__(self, n_classes):\n",
        "    super(SentimentClassifier, self).__init__()\n",
        "    self.bert = BertModel.from_pretrained(PRE_TRAINED_MODEL_NAME)\n",
        "    self.drop = nn.Dropout(p=0.3)\n",
        "    self.out = nn.Linear(self.bert.config.hidden_size, n_classes)\n",
        "  \n",
        "  def forward(self, input_ids, attention_mask):\n",
        "    _, pooled_output = self.bert(\n",
        "      input_ids=input_ids,\n",
        "      attention_mask=attention_mask\n",
        "    )\n",
        "    output = self.drop(pooled_output)\n",
        "    return self.out(output)"
      ],
      "execution_count": 50,
      "outputs": []
    },
    {
      "cell_type": "code",
      "metadata": {
        "id": "GYnOq8kqOrTN"
      },
      "source": [
        "model = SentimentClassifier(len(class_names))\n",
        "model = model.to(device)"
      ],
      "execution_count": 51,
      "outputs": []
    },
    {
      "cell_type": "code",
      "metadata": {
        "id": "o2mFKvhoOrTN"
      },
      "source": [
        ""
      ],
      "execution_count": 51,
      "outputs": []
    },
    {
      "cell_type": "code",
      "metadata": {
        "id": "SeVE8YDiOrTO"
      },
      "source": [
        "EPOCHS = 10\n",
        "\n",
        "optimizer = AdamW(model.parameters(), lr=2e-5, correct_bias=False)\n",
        "total_steps = len(train_data_loader) * EPOCHS\n",
        "\n",
        "scheduler = get_linear_schedule_with_warmup(\n",
        "  optimizer,\n",
        "  num_warmup_steps=0,\n",
        "  num_training_steps=total_steps\n",
        ")\n",
        "\n",
        "loss_fn = nn.CrossEntropyLoss().to(device)"
      ],
      "execution_count": 52,
      "outputs": []
    },
    {
      "cell_type": "code",
      "metadata": {
        "id": "Qifc1m0gOrTO"
      },
      "source": [
        "def train_epoch(\n",
        "  model, \n",
        "  data_loader, \n",
        "  loss_fn, \n",
        "  optimizer, \n",
        "  device, \n",
        "  scheduler, \n",
        "  n_examples\n",
        "):\n",
        "  model = model.train()\n",
        "\n",
        "  losses = []\n",
        "  correct_predictions = 0\n",
        "  \n",
        "  for d in data_loader:\n",
        "    input_ids = d[\"input_ids\"].to(device)\n",
        "    attention_mask = d[\"attention_mask\"].to(device)\n",
        "    targets = d[\"targets\"].to(device)\n",
        "\n",
        "    outputs = model(\n",
        "      input_ids=input_ids,\n",
        "      attention_mask=attention_mask\n",
        "    )\n",
        "\n",
        "    _, preds = torch.max(outputs, dim=1)\n",
        "    loss = loss_fn(outputs, targets)\n",
        "\n",
        "    correct_predictions += torch.sum(preds == targets)\n",
        "    losses.append(loss.item())\n",
        "\n",
        "    loss.backward()\n",
        "    nn.utils.clip_grad_norm_(model.parameters(), max_norm=1.0)\n",
        "    optimizer.step()\n",
        "    scheduler.step()\n",
        "    optimizer.zero_grad()\n",
        "\n",
        "  return correct_predictions.double() / n_examples, np.mean(losses)"
      ],
      "execution_count": 53,
      "outputs": []
    },
    {
      "cell_type": "code",
      "metadata": {
        "id": "FVMRpKloOrTP"
      },
      "source": [
        "def eval_model(model, data_loader, loss_fn, device, n_examples):\n",
        "  model = model.eval()\n",
        "\n",
        "  losses = []\n",
        "  correct_predictions = 0\n",
        "\n",
        "  with torch.no_grad():\n",
        "    for d in data_loader:\n",
        "      input_ids = d[\"input_ids\"].to(device)\n",
        "      attention_mask = d[\"attention_mask\"].to(device)\n",
        "      targets = d[\"targets\"].to(device)\n",
        "\n",
        "      outputs = model(\n",
        "        input_ids=input_ids,\n",
        "        attention_mask=attention_mask\n",
        "      )\n",
        "      _, preds = torch.max(outputs, dim=1)\n",
        "\n",
        "      loss = loss_fn(outputs, targets)\n",
        "\n",
        "      correct_predictions += torch.sum(preds == targets)\n",
        "      losses.append(loss.item())\n",
        "\n",
        "  return correct_predictions.double() / n_examples, np.mean(losses)"
      ],
      "execution_count": 54,
      "outputs": []
    },
    {
      "cell_type": "code",
      "metadata": {
        "colab": {
          "base_uri": "https://localhost:8080/"
        },
        "id": "SPPoiFlROrTP",
        "outputId": "251d2ca3-f7a3-49d3-d9b8-692801fd4fbe"
      },
      "source": [
        "%%time\n",
        "\n",
        "history = defaultdict(list)\n",
        "best_accuracy = 0\n",
        "\n",
        "for epoch in range(EPOCHS):\n",
        "\n",
        "  print(f'Epoch {epoch + 1}/{EPOCHS}')\n",
        "  print('-' * 10)\n",
        "\n",
        "  train_acc, train_loss = train_epoch(\n",
        "    model,\n",
        "    train_data_loader,    \n",
        "    loss_fn, \n",
        "    optimizer, \n",
        "    device, \n",
        "    scheduler, \n",
        "    len(df_train)\n",
        "  )\n",
        "\n",
        "  print(f'Train loss {train_loss} accuracy {train_acc}')\n",
        "\n",
        "  val_acc, val_loss = eval_model(\n",
        "    model,\n",
        "    val_data_loader,\n",
        "    loss_fn, \n",
        "    device, \n",
        "    len(df_val)\n",
        "  )\n",
        "\n",
        "  print(f'Val   loss {val_loss} accuracy {val_acc}')\n",
        "  print()\n",
        "\n",
        "  history['train_acc'].append(train_acc)\n",
        "  history['train_loss'].append(train_loss)\n",
        "  history['val_acc'].append(val_acc)\n",
        "  history['val_loss'].append(val_loss)\n",
        "\n",
        "  if val_acc > best_accuracy:\n",
        "    torch.save(model.state_dict(), 'best_model_state.bin')\n",
        "    best_accuracy = val_acc"
      ],
      "execution_count": 55,
      "outputs": [
        {
          "output_type": "stream",
          "text": [
            "Epoch 1/10\n",
            "----------\n",
            "Train loss 1.8333550428578613 accuracy 0.593119266055046\n",
            "Val   loss 2.131332525537034 accuracy 0.5743801652892562\n",
            "\n",
            "Epoch 2/10\n",
            "----------\n",
            "Train loss 1.91463529265255 accuracy 0.5956422018348624\n",
            "Val   loss 2.11052148893845 accuracy 0.5743801652892562\n",
            "\n",
            "Epoch 3/10\n",
            "----------\n",
            "Train loss 1.9226328530442824 accuracy 0.5956422018348624\n",
            "Val   loss 2.0675675701503913 accuracy 0.5743801652892562\n",
            "\n",
            "Epoch 4/10\n",
            "----------\n",
            "Train loss 1.90851386799178 accuracy 0.5956422018348624\n",
            "Val   loss 2.0651655837524037 accuracy 0.5743801652892562\n",
            "\n",
            "Epoch 5/10\n",
            "----------\n",
            "Train loss 1.7641480872937298 accuracy 0.6059633027522936\n",
            "Val   loss 1.486691855694637 accuracy 0.640495867768595\n",
            "\n",
            "Epoch 6/10\n",
            "----------\n",
            "Train loss 1.29993679921288 accuracy 0.7061926605504587\n",
            "Val   loss 1.2576893449814852 accuracy 0.756198347107438\n",
            "\n",
            "Epoch 7/10\n",
            "----------\n",
            "Train loss 1.0454693802999795 accuracy 0.7811926605504588\n",
            "Val   loss 1.2571110301766515 accuracy 0.768595041322314\n",
            "\n",
            "Epoch 8/10\n",
            "----------\n",
            "Train loss 0.7608893599668775 accuracy 0.8536697247706423\n",
            "Val   loss 1.0435261140184955 accuracy 0.8388429752066116\n",
            "\n",
            "Epoch 9/10\n",
            "----------\n",
            "Train loss 0.4543356937416103 accuracy 0.9206422018348625\n",
            "Val   loss 1.220766400502733 accuracy 0.8223140495867769\n",
            "\n",
            "Epoch 10/10\n",
            "----------\n",
            "Train loss 0.28662036526093787 accuracy 0.9559633027522936\n",
            "Val   loss 1.0411516689071971 accuracy 0.8553719008264463\n",
            "\n",
            "CPU times: user 54min 57s, sys: 10min 51s, total: 1h 5min 49s\n",
            "Wall time: 1h 6min 25s\n"
          ],
          "name": "stdout"
        }
      ]
    },
    {
      "cell_type": "code",
      "metadata": {
        "colab": {
          "base_uri": "https://localhost:8080/",
          "height": 295
        },
        "id": "yEOopJ7kOrTP",
        "outputId": "8da1a2cf-f7d8-4f35-daae-436f32ee26f4"
      },
      "source": [
        "plt.plot(history['train_acc'], label='train accuracy')\n",
        "plt.plot(history['val_acc'], label='validation accuracy')\n",
        "\n",
        "plt.title('Training history')\n",
        "plt.ylabel('Accuracy')\n",
        "plt.xlabel('Epoch')\n",
        "plt.legend()\n",
        "plt.ylim([0, 1]);"
      ],
      "execution_count": 56,
      "outputs": [
        {
          "output_type": "display_data",
          "data": {
            "image/png": "[encoded data removed]",
            "text/plain": [
              "<Figure size 432x288 with 1 Axes>"
            ]
          },
          "metadata": {
            "tags": [],
            "needs_background": "light"
          }
        }
      ]
    },
    {
      "cell_type": "code",
      "metadata": {
        "colab": {
          "base_uri": "https://localhost:8080/"
        },
        "id": "P4El3SoI5Th2",
        "outputId": "1489ca99-4a08-4f8c-d1e2-6524963a41dc"
      },
      "source": [
        "test_acc, _ = eval_model(\n",
        "  model,\n",
        "  test_data_loader,\n",
        "  loss_fn,\n",
        "  device,\n",
        "  len(df_test)\n",
        ")\n",
        "\n",
        "test_acc.item()"
      ],
      "execution_count": 57,
      "outputs": [
        {
          "output_type": "execute_result",
          "data": {
            "text/plain": [
              "0.823045267489712"
            ]
          },
          "metadata": {
            "tags": []
          },
          "execution_count": 57
        }
      ]
    },
    {
      "cell_type": "code",
      "metadata": {
        "id": "NokFqgbI7VLJ"
      },
      "source": [
        "import torch.nn.functional as F"
      ],
      "execution_count": 61,
      "outputs": []
    },
    {
      "cell_type": "code",
      "metadata": {
        "id": "CB7k7XR-5lY4"
      },
      "source": [
        "def get_predictions(model, data_loader):\n",
        "  model = model.eval()\n",
        "  \n",
        "  review_texts = []\n",
        "  predictions = []\n",
        "  prediction_probs = []\n",
        "  real_values = []\n",
        "\n",
        "  with torch.no_grad():\n",
        "    for d in data_loader:\n",
        "\n",
        "      texts = d[\"review_text\"]\n",
        "      input_ids = d[\"input_ids\"].to(device)\n",
        "      attention_mask = d[\"attention_mask\"].to(device)\n",
        "      targets = d[\"targets\"].to(device)\n",
        "\n",
        "      outputs = model(\n",
        "        input_ids=input_ids,\n",
        "        attention_mask=attention_mask\n",
        "      )\n",
        "      _, preds = torch.max(outputs, dim=1)\n",
        "\n",
        "      probs = F.softmax(outputs, dim=1)\n",
        "\n",
        "      review_texts.extend(texts)\n",
        "      predictions.extend(preds)\n",
        "      prediction_probs.extend(probs)\n",
        "      real_values.extend(targets)\n",
        "\n",
        "  predictions = torch.stack(predictions).cpu()\n",
        "  prediction_probs = torch.stack(prediction_probs).cpu()\n",
        "  real_values = torch.stack(real_values).cpu()\n",
        "  return review_texts, predictions, prediction_probs, real_values"
      ],
      "execution_count": 62,
      "outputs": []
    },
    {
      "cell_type": "code",
      "metadata": {
        "id": "tLe4jfvf5x4E"
      },
      "source": [
        "y_review_texts, y_pred, y_pred_probs, y_test = get_predictions(\n",
        "  model,\n",
        "  test_data_loader\n",
        ")"
      ],
      "execution_count": 64,
      "outputs": []
    },
    {
      "cell_type": "code",
      "metadata": {
        "colab": {
          "base_uri": "https://localhost:8080/"
        },
        "id": "vJEIWs8S7eVM",
        "outputId": "93cb8046-76d7-4223-f48a-50707c4aa77b"
      },
      "source": [
        "print(classification_report(y_test, y_pred, target_names=class_names))"
      ],
      "execution_count": 65,
      "outputs": [
        {
          "output_type": "stream",
          "text": [
            "              precision    recall  f1-score   support\n",
            "\n",
            "    negative       0.90      0.85      0.88        33\n",
            "     neutral       0.86      0.85      0.86       142\n",
            "    positive       0.72      0.75      0.73        68\n",
            "\n",
            "    accuracy                           0.82       243\n",
            "   macro avg       0.83      0.82      0.82       243\n",
            "weighted avg       0.83      0.82      0.82       243\n",
            "\n"
          ],
          "name": "stdout"
        }
      ]
    },
    {
      "cell_type": "code",
      "metadata": {
        "colab": {
          "base_uri": "https://localhost:8080/",
          "height": 302
        },
        "id": "0UMLB-Qr7uIz",
        "outputId": "8761b52d-ecc7-44f0-ede0-da66d7617e04"
      },
      "source": [
        "def show_confusion_matrix(confusion_matrix):\n",
        "  hmap = sns.heatmap(confusion_matrix, annot=True, fmt=\"d\", cmap=\"Blues\")\n",
        "  hmap.yaxis.set_ticklabels(hmap.yaxis.get_ticklabels(), rotation=0, ha='right')\n",
        "  hmap.xaxis.set_ticklabels(hmap.xaxis.get_ticklabels(), rotation=30, ha='right')\n",
        "  plt.ylabel('True sentiment')\n",
        "  plt.xlabel('Predicted sentiment');\n",
        "\n",
        "cm = confusion_matrix(y_test, y_pred)\n",
        "df_cm = pd.DataFrame(cm, index=class_names, columns=class_names)\n",
        "show_confusion_matrix(df_cm)"
      ],
      "execution_count": 66,
      "outputs": [
        {
          "output_type": "display_data",
          "data": {
            "image/png": "[encoded data removed]",
            "text/plain": [
              "<Figure size 432x288 with 2 Axes>"
            ]
          },
          "metadata": {
            "tags": [],
            "needs_background": "light"
          }
        }
      ]
    },
    {
      "cell_type": "code",
      "metadata": {
        "id": "i3J9C4ET79KE"
      },
      "source": [
        "idx = 2\n",
        "\n",
        "review_text = y_review_texts[idx]\n",
        "true_sentiment = y_test[idx]\n",
        "pred_df = pd.DataFrame({\n",
        "  'class_names': class_names,\n",
        "  'values': y_pred_probs[idx]\n",
        "})"
      ],
      "execution_count": 67,
      "outputs": []
    },
    {
      "cell_type": "code",
      "metadata": {
        "colab": {
          "base_uri": "https://localhost:8080/"
        },
        "id": "qWQHY4Eb8AV8",
        "outputId": "15fc2e00-f6e2-40fd-d887-579542fb3960"
      },
      "source": [
        "print(\"\\n\".join(wrap(review_text)))\n",
        "print()\n",
        "print(f'True sentiment: {class_names[true_sentiment]}')"
      ],
      "execution_count": 68,
      "outputs": [
        {
          "output_type": "stream",
          "text": [
            "The company 's operating income ( EBIT ) totalled EUR 0.0 mn , up from\n",
            "EUR -0.3 mn year-on-year .\n",
            "\n",
            "True sentiment: positive\n"
          ],
          "name": "stdout"
        }
      ]
    },
    {
      "cell_type": "code",
      "metadata": {
        "colab": {
          "base_uri": "https://localhost:8080/",
          "height": 279
        },
        "id": "B475Ob8C8AY4",
        "outputId": "9228a251-7886-455a-c819-682692972bfc"
      },
      "source": [
        "sns.barplot(x='values', y='class_names', data=pred_df, orient='h')\n",
        "plt.ylabel('sentiment')\n",
        "plt.xlabel('probability')\n",
        "plt.xlim([0, 1]);"
      ],
      "execution_count": 69,
      "outputs": [
        {
          "output_type": "display_data",
          "data": {
            "image/png": "[encoded data removed]",
            "text/plain": [
              "<Figure size 432x288 with 1 Axes>"
            ]
          },
          "metadata": {
            "tags": [],
            "needs_background": "light"
          }
        }
      ]
    },
    {
      "cell_type": "markdown",
      "metadata": {
        "id": "KUeUVUcr8OjV"
      },
      "source": [
        "Predict on text"
      ]
    },
    {
      "cell_type": "code",
      "metadata": {
        "id": "ylaznc5X8QJs"
      },
      "source": [
        "review_text = \"Taiwanese-owned Wistron, which is a contract manufacturer for Apple, apologized for mishandling wages at its plant in India, saying it will correct the problems that led a group of angry workers to damage its facilities a week ago.\""
      ],
      "execution_count": 70,
      "outputs": []
    },
    {
      "cell_type": "code",
      "metadata": {
        "id": "_v4KOJ648QTp"
      },
      "source": [
        "encoded_review = tokenizer.encode_plus(\n",
        "  review_text,\n",
        "  max_length=MAX_LEN,\n",
        "  add_special_tokens=True,\n",
        "  return_token_type_ids=False,\n",
        "  pad_to_max_length=True,\n",
        "  return_attention_mask=True,\n",
        "  return_tensors='pt',\n",
        ")"
      ],
      "execution_count": 71,
      "outputs": []
    },
    {
      "cell_type": "code",
      "metadata": {
        "colab": {
          "base_uri": "https://localhost:8080/"
        },
        "id": "Bcmo-mgj8QWQ",
        "outputId": "faae6708-7e5b-4921-cfac-f381d0ff97cc"
      },
      "source": [
        "input_ids = encoded_review['input_ids'].to(device)\n",
        "attention_mask = encoded_review['attention_mask'].to(device)\n",
        "\n",
        "output = model(input_ids, attention_mask)\n",
        "_, prediction = torch.max(output, dim=1)\n",
        "\n",
        "print(f'Review text: {review_text}')\n",
        "print(f'Sentiment  : {class_names[prediction]}')"
      ],
      "execution_count": 72,
      "outputs": [
        {
          "output_type": "stream",
          "text": [
            "Review text: Taiwanese-owned Wistron, which is a contract manufacturer for Apple, apologized for mishandling wages at its plant in India, saying it will correct the problems that led a group of angry workers to damage its facilities a week ago.\n",
            "Sentiment  : negative\n"
          ],
          "name": "stdout"
        }
      ]
    }
  ]
}